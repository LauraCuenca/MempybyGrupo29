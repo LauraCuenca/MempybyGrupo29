{
 "cells": [
  {
   "cell_type": "markdown",
   "id": "08c27de4",
   "metadata": {
    "slideshow": {
     "slide_type": "slide"
    }
   },
   "source": [
    "\n",
    "<div style=\"border-style: solid; border-color: rgb(201, 76, 76); border-width: 5px;\">\n",
    "    <center><img src=\"cabecera.jpg\" style=\"width:80%;\"></center>\n",
    "    <font size=\"25px\" align=\"center\"><center>Seminario de Lenguajes - Python - 2021</center></font>\n",
    "    <font size=\"25px\" align=\"center\"><center>Mempy by Grupo 29</center></font>\n",
    "    <br>\n",
    "    <center>\n",
    "        <ul>\n",
    "          <li>Laura Cuenca</li>\n",
    "          <li>Mauro Aisit</li>\n",
    "          <li>Diego Lanciotti</li>\n",
    "        </ul>\n",
    "    </center>\n",
    "</div>   \n"
   ]
  },
  {
   "cell_type": "markdown",
   "id": "0f859f7d",
   "metadata": {
    "slideshow": {
     "slide_type": "slide"
    }
   },
   "source": [
    "<center><img src=\"python.jpg\" style=\"width:25%;\"></center>\n",
    "\n",
    "# Más que un lenguaje de programación\n",
    "\n",
    "En el curso, el grupo pudo ver diferentes formas de implementación sobre dicho código abierto, abriendo nuestras mentes para plasmar ideas, conceptos fiables y escalables para generar aplicaciones con diseños novedosos y adaptables a cualquier sistema. Aprendimos una gran variedad y diversidad de conocimientos."
   ]
  },
  {
   "cell_type": "markdown",
   "id": "08c6419d",
   "metadata": {
    "slideshow": {
     "slide_type": "subslide"
    }
   },
   "source": [
    "# Herramientas utilizadas\n",
    "\n",
    "Algunas de las diferentes librerías usadas:\n",
    "\n",
    "<div>\n",
    "    <div style=\"float:left;\"><img src=\"matplot.png\" style=\"width:50%;\"></div>\n",
    "    <div style=\"float:left;\"><img src=\"pandas.jpg\" style=\"width:50%;\"></div>\n",
    "    <div ><img src=\"pysimplegui.png\" style=\"width:20%;\"></div>\n",
    "</div>\n",
    "\n",
    "<br><br>\n",
    "Cada una de ellas ayudó a generar mejoras para la visualización de los datos, como generar gráficos de calidad y estructuras de datos basados en estadísticas (en el caso de Pandas son series y dataframe).\n"
   ]
  },
  {
   "cell_type": "markdown",
   "id": "5f84c3e9",
   "metadata": {
    "slideshow": {
     "slide_type": "slide"
    }
   },
   "source": [
    "# Imágenes del juego\n",
    "\n",
    "<br>\n",
    "<center><img src=\"login.png\" style=\"width:25%;\"></center>\n",
    "<center><i>Imagen del inicio de sesión del juego</i></center>\n"
   ]
  },
  {
   "cell_type": "markdown",
   "id": "4086237b",
   "metadata": {
    "slideshow": {
     "slide_type": "subslide"
    }
   },
   "source": [
    "<center><img src=\"registro.png\" style=\"width:30%;\"></center>\n",
    "<center><i>Pantalla de registro</i></center>\n"
   ]
  },
  {
   "cell_type": "markdown",
   "id": "db20400d",
   "metadata": {
    "slideshow": {
     "slide_type": "subslide"
    }
   },
   "source": [
    "<center><img src=\"config.png\" style=\"width:30%;\"></center>\n",
    "<center><i>Pantalla de configuración</i></center>\n"
   ]
  },
  {
   "cell_type": "markdown",
   "id": "4f183160",
   "metadata": {
    "slideshow": {
     "slide_type": "subslide"
    }
   },
   "source": [
    "<center><img src=\"imagen2.png\" style=\"width:40%;\"></center>\n",
    "<center><i>Imagen del juego en dificultad fácil</i></center>"
   ]
  },
  {
   "cell_type": "markdown",
   "id": "80603532",
   "metadata": {
    "slideshow": {
     "slide_type": "slide"
    }
   },
   "source": [
    "# Datasets\n",
    "\n",
    "- Pokemon\n",
    "- Jugadores de FIFA\n",
    "- Logo de Autos\n",
    "\n",
    "<div>\n",
    "    <div style=\"float:left;\"><img src=\"pikachu.png\"></div>\n",
    "    <div style=\"float:left;\"><img src=\"messi.png\"></div>\n",
    "    <div style=\"float:left;\"><img src=\"alfa-romeo-logo.png\"></div>\n",
    "</div>  "
   ]
  },
  {
   "cell_type": "markdown",
   "id": "425db903",
   "metadata": {
    "slideshow": {
     "slide_type": "slide"
    }
   },
   "source": [
    "### Tabla de criterios\n",
    "\n",
    "|Día  | Mañana - criterio  | Tarde - criterio |\n",
    "|--|--|--|\n",
    "| Lunes  | Pokemones tipo Cesped y Veneno | Pokemones tipo Normal y Volador |\n",
    "| Martes | Pokemones tipo Bicho y diferentes a Veneno o Volador | Pokemones tipo Dragón y que no tengan segundo tipo |\n",
    "| Miércoles | Pokemones que contengan la letra k en su nombre, que la longitud de su nombre sea mayor a 8 y que solo tengan 1 tipo | Pokemones que terminen su nombre en \"on\" |\n",
    "| Jueves | Jugadores con imagen, país: Argentina, edad entre 30 y 35 años que sean zurdos y pesen menos de 170lbs | Jugadores con imagen, edad menos a 18 años y jueguen de arquero |\n",
    "| Viernes | Jugadores con imagen, edad: 23, Overall: Potential y que sean zurdos | Jugadores con imagen, cuyos nombres sean mas de 18 caracteres y contengan las letras k,z y w |\n",
    "| Sabado | Jugadores con imagen, edad menor a 25 y equipo barcelona | Jugadores con imagen, extranjeros jugando en Boca o River |\n",
    "| Domingo | Logos con imagen, con origen distinto a estados unidos o reino unido | Logos con imagen, y segment igual a Mass-Market Cars |\n"
   ]
  },
  {
   "cell_type": "markdown",
   "id": "e02f5e9a",
   "metadata": {
    "slideshow": {
     "slide_type": "slide"
    }
   },
   "source": [
    "## La clase Juego\n",
    "\n",
    "Toda la lógica del juego se encuentra agrupada en una sola clase"
   ]
  },
  {
   "cell_type": "code",
   "execution_count": null,
   "id": "477b3eba",
   "metadata": {
    "slideshow": {
     "slide_type": "subslide"
    }
   },
   "outputs": [],
   "source": [
    "class Juego:\n",
    "        \"\"\"\n",
    "    Clase que contiene toda la logica del tablero de juego\n",
    "    \"\"\"\n",
    "    def __init__(self, dificultad, con_ayuda, tipo_tarjeta, jugador_nombre, jugador_genero, jugador_edad):\n",
    "        self.dificultad = dificultad  # Facil, Medio, Díficil\n",
    "        self.con_ayuda = con_ayuda\n",
    "        self.tipo_tarjeta = tipo_tarjeta  # Texto, Imagen, Mixto\n",
    "        self.jugador_nombre = jugador_nombre  # Datos del jugador\n",
    "        self.jugador_genero = jugador_genero\n",
    "        self.jugador_edad = jugador_edad\n",
    "        self.nro_de_partida = 0  # Numero de partida\n",
    "        self.matriz_tablero = []  # Matriz con los datos del tablero\n",
    "        self.tiempo_de_inicio = time.time()  # Tiempo de inicio de la partida\n",
    "        self.tiempo_maximo = 0\n",
    "        self.tiempo_restante = 0  # Tiempo restante para jugar\n",
    "        self.aciertos_maximos = 0\n",
    "        self.aciertos = 0  # Cantidad de aciertos obtenidos\n",
    "        self.descripcion = \"\"  # Descripcion de las tarjetas de la partida\n",
    "        self.puntaje = 0  # Puntos obtenidos\n",
    "        self.texto_ayuda = \"Sin ayuda\"  # Mensaje de ayuda\n"
   ]
  },
  {
   "cell_type": "code",
   "execution_count": null,
   "id": "62282dfb",
   "metadata": {
    "slideshow": {
     "slide_type": "subslide"
    }
   },
   "outputs": [],
   "source": [
    "    def generar_tablero(self):\n",
    "        \"\"\"\n",
    "        Verifica la hora, el dia, la dificultad y genera la matriz para el tablero\n",
    "        Genera una matriz para ser usada como tablero\n",
    "\n",
    "        datos_de_tarjeta: [[estado, texto, imagen],...]\n",
    "        estado:\n",
    "            0: boca abajo\n",
    "            1: boca arriba\n",
    "            2: ya encontrada, boca arriba permanente\n",
    "        \"\"\"\n",
    "\n",
    "    def hay_acierto(self):\n",
    "        \"\"\"\n",
    "        Devuelve True si hay acierto entre 2 tarjetas\n",
    "        \"\"\"\n",
    "\n",
    "    def buscar_ayuda(self, palabra):\n",
    "        \"\"\"\n",
    "        Devuelve el texto de ayuda para la siguiente tarjeta\n",
    "        \"\"\""
   ]
  },
  {
   "cell_type": "code",
   "execution_count": null,
   "id": "bc80787d",
   "metadata": {
    "slideshow": {
     "slide_type": "subslide"
    }
   },
   "outputs": [],
   "source": [
    "def hay_fin_del_juego(self):\n",
    "    \"\"\"\n",
    "    Devuelve si ya alcanzaron todas las aciertos o se llego al tiempo limite\n",
    "    \"\"\"\n",
    "\n",
    "def revelar_tarjeta(self, x, y):\n",
    "    \"\"\"\n",
    "    Muestra el resultado de la tarjeta al voltearla. Devuelve la imagen o texto\n",
    "    a mostrar\n",
    "    \"\"\"\n",
    "\n",
    "def get_tarjetas_boca_arriba(self):\n",
    "    \"\"\"\n",
    "    Devuelve la cantidad de tarjetas boca arriba, estado = 1\n",
    "    \"\"\"\n",
    "\n",
    "def esconder_tarjetas(self):\n",
    "    \"\"\"\n",
    "    Devuelve una lista con todas las tarjetas a esconder si hay al menos dos con \n",
    "    estado = 1\n",
    "    No voltea las tarjetas ya encontradas con estado = 2\n",
    "    \"\"\""
   ]
  },
  {
   "cell_type": "code",
   "execution_count": null,
   "id": "40840bed",
   "metadata": {
    "slideshow": {
     "slide_type": "subslide"
    }
   },
   "outputs": [],
   "source": [
    "def guardar_datos(self, evento, estado, palabra):\n",
    "    \"\"\"\n",
    "    Guarda los datos de las acciones que se producen durante la partida\n",
    "    \"\"\"\n",
    "\n",
    "def contar_puntos(self, puntos):\n",
    "    \"\"\"\n",
    "    Cuenta los puntos ganados en la partida\n",
    "    \"\"\"\n",
    "\n",
    "def guardar_puntos(self):\n",
    "    \"\"\"\n",
    "    Guarda los puntos obtenidos al final de la partida\n",
    "    \"\"\""
   ]
  },
  {
   "cell_type": "markdown",
   "id": "5cfe2464",
   "metadata": {
    "slideshow": {
     "slide_type": "slide"
    }
   },
   "source": [
    "## Estadísticas\n",
    "\n",
    "Se realizo la implementación de cada ventana de las estadísticas, en conjunto de un archivo .py, para que quede\n",
    "mejor organizado a la hora de ser leído por los demás integrantes\n",
    "<center><img src=\"estadisticas1.png\" style=\"width:35%;\"></center>"
   ]
  },
  {
   "cell_type": "markdown",
   "id": "fea625b4",
   "metadata": {
    "slideshow": {
     "slide_type": "subslide"
    }
   },
   "source": [
    "<center><img src=\"estadisticas2.png\" style=\"width:45%;\"></center>\n",
    "<center><i>Porcentaje de palabras en partidas timeout</i></center>\n"
   ]
  },
  {
   "cell_type": "markdown",
   "id": "5430e3d8",
   "metadata": {
    "slideshow": {
     "slide_type": "subslide"
    }
   },
   "source": [
    "<center><img src=\"estadisticas3.png\" style=\"width:45%;\"></center>\n",
    "<center><i>Tabla: top 10 de las primeras palabas encontradas</i></center>"
   ]
  },
  {
   "cell_type": "markdown",
   "id": "bb117da9",
   "metadata": {
    "slideshow": {
     "slide_type": "slide"
    }
   },
   "source": [
    "## Estadísticas\n",
    "\n",
    "Con `matplotlib` se exportan los gráficos como imágenes (tanto tablas y gráficos) y luego se muestran en sus respectivas pantallas"
   ]
  },
  {
   "cell_type": "code",
   "execution_count": null,
   "id": "6f144b50",
   "metadata": {
    "slideshow": {
     "slide_type": "subslide"
    }
   },
   "outputs": [],
   "source": [
    "# Guarda el grafico como .png (imagen)\n",
    "plt.savefig(\"src/recursos/graficos/ranking.png\")"
   ]
  },
  {
   "cell_type": "code",
   "execution_count": null,
   "id": "4081319c",
   "metadata": {
    "slideshow": {
     "slide_type": "subslide"
    }
   },
   "outputs": [],
   "source": [
    "layout = [\n",
    "        [sg.Image(filename=\"src/recursos/graficos/ranking.png\")],\n",
    "        [sg.Button(\"Salir\", size=size, key=\"-SALIR-\")]\n",
    "    ]\n",
    "\n",
    "ranking = sg.Window(\"Grafico\", layout=layout)"
   ]
  },
  {
   "cell_type": "markdown",
   "id": "ead17dee",
   "metadata": {
    "slideshow": {
     "slide_type": "slide"
    }
   },
   "source": [
    "<div style=\"border-style: solid; border-color: rgb(201, 76, 76); border-width: 5px;\">\n",
    "    <br>\n",
    "    <center><img src=\"winner.png\"></center>\n",
    "    <br>\n",
    "    <div style=\"font-size:70px\"><center>Mempy by Grupo 29</center></div>\n",
    "    <div style=\"font-size:30px\"><center>¡Muchas gracias!</center></div>\n",
    "    <br>\n",
    "    <br>\n",
    "</div>   "
   ]
  }
 ],
 "metadata": {
  "celltoolbar": "Slideshow",
  "kernelspec": {
   "display_name": "Python 3 (ipykernel)",
   "language": "python",
   "name": "python3"
  },
  "language_info": {
   "codemirror_mode": {
    "name": "ipython",
    "version": 3
   },
   "file_extension": ".py",
   "mimetype": "text/x-python",
   "name": "python",
   "nbconvert_exporter": "python",
   "pygments_lexer": "ipython3",
   "version": "3.8.10"
  }
 },
 "nbformat": 4,
 "nbformat_minor": 5
}
